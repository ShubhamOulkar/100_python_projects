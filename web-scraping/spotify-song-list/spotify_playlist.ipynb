{
  "nbformat": 4,
  "nbformat_minor": 0,
  "metadata": {
    "colab": {
      "provenance": []
    },
    "kernelspec": {
      "name": "python3",
      "display_name": "Python 3"
    },
    "language_info": {
      "name": "python"
    }
  },
  "cells": [
    {
      "cell_type": "code",
      "source": [
        "from bs4 import BeautifulSoup\n",
        "import requests"
      ],
      "metadata": {
        "id": "yNN3TpfsqP_c"
      },
      "execution_count": null,
      "outputs": []
    },
    {
      "cell_type": "markdown",
      "source": [
        "1. Create 100 songs playlist from billboard website for a inputed year.\n",
        "\n",
        "year = 1995-01-01 "
      ],
      "metadata": {
        "id": "xBMQhGiips32"
      }
    },
    {
      "cell_type": "code",
      "source": [
        "year =str(input(\"Input Year You want, e.g. YYYY/MM/DD format \\n\"))\n",
        "url = f\"https://www.billboard.com/charts/hot-100/{year}/\"\n",
        "print(url)"
      ],
      "metadata": {
        "colab": {
          "base_uri": "https://localhost:8080/"
        },
        "id": "oxcxGIO3qJih",
        "outputId": "a0579a05-0608-4271-f7f2-0afab02435b7"
      },
      "execution_count": null,
      "outputs": [
        {
          "output_type": "stream",
          "name": "stdout",
          "text": [
            "Input Year You want, e.g. YYYY/MM/DD format \n",
            "2023-01-01\n",
            "https://www.billboard.com/charts/hot-100/2023-01-01/\n"
          ]
        }
      ]
    },
    {
      "cell_type": "code",
      "source": [
        "response = requests.get(url)\n",
        "song = response.text\n",
        "soup = BeautifulSoup(song, 'html.parser')"
      ],
      "metadata": {
        "id": "wQUxxhrnq_Y_"
      },
      "execution_count": null,
      "outputs": []
    },
    {
      "cell_type": "code",
      "source": [
        "with open(\"billboard.html\", 'w') as file:\n",
        "  file.write(str(soup))"
      ],
      "metadata": {
        "id": "nWnSRCRzrXr-"
      },
      "execution_count": null,
      "outputs": []
    },
    {
      "cell_type": "markdown",
      "source": [
        "HTML file is saved. Let's start scraping song list."
      ],
      "metadata": {
        "id": "DXSlg7szsABF"
      }
    },
    {
      "cell_type": "code",
      "source": [
        "songs_name = soup.select(\"li ul li h3\")"
      ],
      "metadata": {
        "id": "TU0LjArSr6Nm"
      },
      "execution_count": null,
      "outputs": []
    },
    {
      "cell_type": "code",
      "source": [
        "q=0\n",
        "for i in songs_name:\n",
        "  q += 1\n",
        "  with open(f\"{year}_songs_play_list.txt\",\"a\") as file:\n",
        "    file.write('\\n' + str(q)+\". \"+ i.text.strip())\n",
        "\n",
        "print(\"song list is ready\")"
      ],
      "metadata": {
        "colab": {
          "base_uri": "https://localhost:8080/"
        },
        "id": "AK2ae6pVv18u",
        "outputId": "28b08025-5fbe-46a7-87e6-63baca43c618"
      },
      "execution_count": null,
      "outputs": [
        {
          "output_type": "stream",
          "name": "stdout",
          "text": [
            "song list is ready\n"
          ]
        }
      ]
    },
    {
      "cell_type": "code",
      "source": [],
      "metadata": {
        "id": "CXWuCa4V75HE"
      },
      "execution_count": null,
      "outputs": []
    }
  ]
}