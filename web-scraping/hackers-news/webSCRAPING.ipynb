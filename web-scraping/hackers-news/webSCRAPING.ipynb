{
  "nbformat": 4,
  "nbformat_minor": 0,
  "metadata": {
    "colab": {
      "provenance": []
    },
    "kernelspec": {
      "name": "python3",
      "display_name": "Python 3"
    },
    "language_info": {
      "name": "python"
    }
  },
  "cells": [
    {
      "cell_type": "code",
      "execution_count": null,
      "metadata": {
        "id": "DOMN32-CxGBt"
      },
      "outputs": [],
      "source": [
        "import requests\n",
        "from bs4 import BeautifulSoup"
      ]
    },
    {
      "cell_type": "code",
      "source": [
        "response = requests.get(\"https://news.ycombinator.com/show\")\n",
        "news = response.text"
      ],
      "metadata": {
        "id": "Ti_3HuygxO7S"
      },
      "execution_count": null,
      "outputs": []
    },
    {
      "cell_type": "code",
      "source": [
        "soup = BeautifulSoup(news, 'html.parser')\n",
        "print(soup)"
      ],
      "metadata": {
        "colab": {
          "base_uri": "https://localhost:8080/"
        },
        "id": "tdgWEDb8x_jT",
        "outputId": "22f54615-952e-4654-ca7a-b644bf61bbd1"
      },
      "execution_count": null,
      "outputs": [
        {
          "output_type": "stream",
          "name": "stdout",
          "text": [
            "<html lang=\"en\" op=\"show\"><head><meta content=\"origin\" name=\"referrer\"/><meta content=\"width=device-width, initial-scale=1.0\" name=\"viewport\"/><link href=\"news.css?OCA9brqrT239YpGzaLlf\" rel=\"stylesheet\" type=\"text/css\"/>\n",
            "<link href=\"favicon.ico\" rel=\"shortcut icon\"/>\n",
            "<link href=\"showrss\" rel=\"alternate\" title=\"RSS\" type=\"application/rss+xml\"/>\n",
            "<title>Show | Hacker News</title></head><body><center><table bgcolor=\"#f6f6ef\" border=\"0\" cellpadding=\"0\" cellspacing=\"0\" id=\"hnmain\" width=\"85%\">\n",
            "<tr><td bgcolor=\"#ff6600\"><table border=\"0\" cellpadding=\"0\" cellspacing=\"0\" style=\"padding:2px\" width=\"100%\"><tr><td style=\"width:18px;padding-right:4px\"><a href=\"https://news.ycombinator.com\"><img height=\"18\" src=\"y18.gif\" style=\"border:1px white solid;\" width=\"18\"/></a></td>\n",
            "<td style=\"line-height:12pt; height:10px;\"><span class=\"pagetop\"><b class=\"hnname\"><a href=\"news\">Hacker News</a></b>\n",
            "<a href=\"newest\">new</a> | <a href=\"front\">past</a> | <a href=\"newcomments\">comments</a> | <a href=\"ask\">ask</a> | <span class=\"topsel\"><a href=\"show\">show</a></span> | <a href=\"jobs\">jobs</a> | <a href=\"submit\">submit</a> </span></td><td style=\"text-align:right;padding-right:4px;\"><span class=\"pagetop\">\n",
            "<a href=\"login?goto=show\">login</a>\n",
            "</span></td>\n",
            "</tr></table></td></tr>\n",
            "<tr id=\"pagespace\" style=\"height:10px\" title=\"Show\"></tr><tr><td><div style=\"margin-left:36px; margin-top:6px; margin-bottom:12px\">Please read the <a href=\"showhn.html\"><u>rules</u></a>. You can also browse the <a href=\"shownew\"><u>newest</u></a> Show HNs.</div><table border=\"0\" cellpadding=\"0\" cellspacing=\"0\">\n",
            "<tr class=\"athing\" id=\"34826085\">\n",
            "<td align=\"right\" class=\"title\" valign=\"top\"><span class=\"rank\">1.</span></td> <td class=\"votelinks\" valign=\"top\"><center><a href=\"vote?id=34826085&amp;how=up&amp;goto=show\" id=\"up_34826085\"><div class=\"votearrow\" title=\"upvote\"></div></a></center></td><td class=\"title\"><span class=\"titleline\"><a href=\"https://basementcommunity.com\">Show HN: I made an early 2000s-inspired internet forum</a><span class=\"sitebit comhead\"> (<a href=\"from?site=basementcommunity.com\"><span class=\"sitestr\">basementcommunity.com</span></a>)</span></span></td></tr><tr><td colspan=\"2\"></td><td class=\"subtext\"><span class=\"subline\">\n",
            "<span class=\"score\" id=\"score_34826085\">240 points</span> by <a class=\"hnuser\" href=\"user?id=partly_cloudy\">partly_cloudy</a> <span class=\"age\" title=\"2023-02-16T21:02:14\"><a href=\"item?id=34826085\">10 hours ago</a></span> <span id=\"unv_34826085\"></span> | <a href=\"item?id=34826085\">141 comments</a> </span>\n",
            "</td></tr>\n",
            "<tr class=\"spacer\" style=\"height:5px\"></tr>\n",
            "<tr class=\"athing\" id=\"34828169\">\n",
            "<td align=\"right\" class=\"title\" valign=\"top\"><span class=\"rank\">2.</span></td> <td class=\"votelinks\" valign=\"top\"><center><a href=\"vote?id=34828169&amp;how=up&amp;goto=show\" id=\"up_34828169\"><div class=\"votearrow\" title=\"upvote\"></div></a></center></td><td class=\"title\"><span class=\"titleline\"><a href=\"https://github.com/inqueryio/inquery\">Show HN: Inquery (YC W23) – Real-time events for Postgres</a><span class=\"sitebit comhead\"> (<a href=\"from?site=github.com/inqueryio\"><span class=\"sitestr\">github.com/inqueryio</span></a>)</span></span></td></tr><tr><td colspan=\"2\"></td><td class=\"subtext\"><span class=\"subline\">\n",
            "<span class=\"score\" id=\"score_34828169\">12 points</span> by <a class=\"hnuser\" href=\"user?id=mitchpatin\">mitchpatin</a> <span class=\"age\" title=\"2023-02-16T23:21:40\"><a href=\"item?id=34828169\">8 hours ago</a></span> <span id=\"unv_34828169\"></span> | <a href=\"item?id=34828169\">4 comments</a> </span>\n",
            "</td></tr>\n",
            "<tr class=\"spacer\" style=\"height:5px\"></tr>\n",
            "<tr class=\"athing\" id=\"34816632\">\n",
            "<td align=\"right\" class=\"title\" valign=\"top\"><span class=\"rank\">3.</span></td> <td class=\"votelinks\" valign=\"top\"><center><a href=\"vote?id=34816632&amp;how=up&amp;goto=show\" id=\"up_34816632\"><div class=\"votearrow\" title=\"upvote\"></div></a></center></td><td class=\"title\"><span class=\"titleline\"><a href=\"https://apps.apple.com/us/app/my-expenses-budget-tracker/id1663043762\">Show HN: I made a super simple iOS app to track expenses</a><span class=\"sitebit comhead\"> (<a href=\"from?site=apps.apple.com\"><span class=\"sitestr\">apps.apple.com</span></a>)</span></span></td></tr><tr><td colspan=\"2\"></td><td class=\"subtext\"><span class=\"subline\">\n",
            "<span class=\"score\" id=\"score_34816632\">45 points</span> by <a class=\"hnuser\" href=\"user?id=Nyoxide\">Nyoxide</a> <span class=\"age\" title=\"2023-02-16T09:17:00\"><a href=\"item?id=34816632\">22 hours ago</a></span> <span id=\"unv_34816632\"></span> | <a href=\"item?id=34816632\">49 comments</a> </span>\n",
            "</td></tr>\n",
            "<tr class=\"spacer\" style=\"height:5px\"></tr>\n",
            "<tr class=\"athing\" id=\"34815122\">\n",
            "<td align=\"right\" class=\"title\" valign=\"top\"><span class=\"rank\">4.</span></td> <td class=\"votelinks\" valign=\"top\"><center><a href=\"vote?id=34815122&amp;how=up&amp;goto=show\" id=\"up_34815122\"><div class=\"votearrow\" title=\"upvote\"></div></a></center></td><td class=\"title\"><span class=\"titleline\"><a href=\"https://camome.net\">Show HN: Camome UI – A lightweight React and CSS framework</a><span class=\"sitebit comhead\"> (<a href=\"from?site=camome.net\"><span class=\"sitestr\">camome.net</span></a>)</span></span></td></tr><tr><td colspan=\"2\"></td><td class=\"subtext\"><span class=\"subline\">\n",
            "<span class=\"score\" id=\"score_34815122\">20 points</span> by <a class=\"hnuser\" href=\"user?id=sabigara\">sabigara</a> <span class=\"age\" title=\"2023-02-16T04:43:28\"><a href=\"item?id=34815122\">1 day ago</a></span> <span id=\"unv_34815122\"></span> | <a href=\"item?id=34815122\">5 comments</a> </span>\n",
            "</td></tr>\n",
            "<tr class=\"spacer\" style=\"height:5px\"></tr>\n",
            "<tr class=\"athing\" id=\"34818317\">\n",
            "<td align=\"right\" class=\"title\" valign=\"top\"><span class=\"rank\">5.</span></td> <td class=\"votelinks\" valign=\"top\"><center><a href=\"vote?id=34818317&amp;how=up&amp;goto=show\" id=\"up_34818317\"><div class=\"votearrow\" title=\"upvote\"></div></a></center></td><td class=\"title\"><span class=\"titleline\"><a href=\"https://duffel.com/links\">Show HN: Duffel (YC S18) – A faster way to sell flights</a><span class=\"sitebit comhead\"> (<a href=\"from?site=duffel.com\"><span class=\"sitestr\">duffel.com</span></a>)</span></span></td></tr><tr><td colspan=\"2\"></td><td class=\"subtext\"><span class=\"subline\">\n",
            "<span class=\"score\" id=\"score_34818317\">81 points</span> by <a class=\"hnuser\" href=\"user?id=stevedomin\">stevedomin</a> <span class=\"age\" title=\"2023-02-16T13:27:35\"><a href=\"item?id=34818317\">17 hours ago</a></span> <span id=\"unv_34818317\"></span> | <a href=\"item?id=34818317\">65 comments</a> </span>\n",
            "</td></tr>\n",
            "<tr class=\"spacer\" style=\"height:5px\"></tr>\n",
            "<tr class=\"athing\" id=\"34795155\">\n",
            "<td align=\"right\" class=\"title\" valign=\"top\"><span class=\"rank\">6.</span></td> <td class=\"votelinks\" valign=\"top\"><center><a href=\"vote?id=34795155&amp;how=up&amp;goto=show\" id=\"up_34795155\"><div class=\"votearrow\" title=\"upvote\"></div></a></center></td><td class=\"title\"><span class=\"titleline\"><a href=\"https://peel.fm\">Show HN: I built a little online drum machine using 808 style samples</a><span class=\"sitebit comhead\"> (<a href=\"from?site=peel.fm\"><span class=\"sitestr\">peel.fm</span></a>)</span></span></td></tr><tr><td colspan=\"2\"></td><td class=\"subtext\"><span class=\"subline\">\n",
            "<span class=\"score\" id=\"score_34795155\">343 points</span> by <a class=\"hnuser\" href=\"user?id=berkcebi\">berkcebi</a> <span class=\"age\" title=\"2023-02-14T20:04:12\"><a href=\"item?id=34795155\">2 days ago</a></span> <span id=\"unv_34795155\"></span> | <a href=\"item?id=34795155\">112 comments</a> </span>\n",
            "</td></tr>\n",
            "<tr class=\"spacer\" style=\"height:5px\"></tr>\n",
            "<tr class=\"athing\" id=\"34825631\">\n",
            "<td align=\"right\" class=\"title\" valign=\"top\"><span class=\"rank\">7.</span></td> <td class=\"votelinks\" valign=\"top\"><center><a href=\"vote?id=34825631&amp;how=up&amp;goto=show\" id=\"up_34825631\"><div class=\"votearrow\" title=\"upvote\"></div></a></center></td><td class=\"title\"><span class=\"titleline\"><a href=\"https://github.com/philc/sheetkeys\">Show HN: SheetKeys – The Hacker's Spreadsheet</a><span class=\"sitebit comhead\"> (<a href=\"from?site=github.com/philc\"><span class=\"sitestr\">github.com/philc</span></a>)</span></span></td></tr><tr><td colspan=\"2\"></td><td class=\"subtext\"><span class=\"subline\">\n",
            "<span class=\"score\" id=\"score_34825631\">2 points</span> by <a class=\"hnuser\" href=\"user?id=philc\">philc</a> <span class=\"age\" title=\"2023-02-16T20:36:28\"><a href=\"item?id=34825631\">10 hours ago</a></span> <span id=\"unv_34825631\"></span> | <a href=\"item?id=34825631\">discuss</a> </span>\n",
            "</td></tr>\n",
            "<tr class=\"spacer\" style=\"height:5px\"></tr>\n",
            "<tr class=\"athing\" id=\"34825056\">\n",
            "<td align=\"right\" class=\"title\" valign=\"top\"><span class=\"rank\">8.</span></td> <td class=\"votelinks\" valign=\"top\"><center><a href=\"vote?id=34825056&amp;how=up&amp;goto=show\" id=\"up_34825056\"><div class=\"votearrow\" title=\"upvote\"></div></a></center></td><td class=\"title\"><span class=\"titleline\"><a href=\"https://github.com/Oxen-AI/oxen-release\">Show HN: Oxen.ai – Fast Unstructured Data Version Control</a><span class=\"sitebit comhead\"> (<a href=\"from?site=github.com/oxen-ai\"><span class=\"sitestr\">github.com/oxen-ai</span></a>)</span></span></td></tr><tr><td colspan=\"2\"></td><td class=\"subtext\"><span class=\"subline\">\n",
            "<span class=\"score\" id=\"score_34825056\">13 points</span> by <a class=\"hnuser\" href=\"user?id=gschoeni\">gschoeni</a> <span class=\"age\" title=\"2023-02-16T20:05:00\"><a href=\"item?id=34825056\">11 hours ago</a></span> <span id=\"unv_34825056\"></span> | <a href=\"item?id=34825056\">4 comments</a> </span>\n",
            "</td></tr>\n",
            "<tr class=\"spacer\" style=\"height:5px\"></tr>\n",
            "<tr class=\"athing\" id=\"34824907\">\n",
            "<td align=\"right\" class=\"title\" valign=\"top\"><span class=\"rank\">9.</span></td> <td class=\"votelinks\" valign=\"top\"><center><a href=\"vote?id=34824907&amp;how=up&amp;goto=show\" id=\"up_34824907\"><div class=\"votearrow\" title=\"upvote\"></div></a></center></td><td class=\"title\"><span class=\"titleline\"><a href=\"https://favird.com\" rel=\"nofollow\">Show HN: Favird – A listing with listings of interesting things</a><span class=\"sitebit comhead\"> (<a href=\"from?site=favird.com\"><span class=\"sitestr\">favird.com</span></a>)</span></span></td></tr><tr><td colspan=\"2\"></td><td class=\"subtext\"><span class=\"subline\">\n",
            "<span class=\"score\" id=\"score_34824907\">3 points</span> by <a class=\"hnuser\" href=\"user?id=Oxidome\">Oxidome</a> <span class=\"age\" title=\"2023-02-16T19:56:55\"><a href=\"item?id=34824907\">11 hours ago</a></span> <span id=\"unv_34824907\"></span> | <a href=\"item?id=34824907\">discuss</a> </span>\n",
            "</td></tr>\n",
            "<tr class=\"spacer\" style=\"height:5px\"></tr>\n",
            "<tr class=\"athing\" id=\"34805132\">\n",
            "<td align=\"right\" class=\"title\" valign=\"top\"><span class=\"rank\">10.</span></td> <td class=\"votelinks\" valign=\"top\"><center><a href=\"vote?id=34805132&amp;how=up&amp;goto=show\" id=\"up_34805132\"><div class=\"votearrow\" title=\"upvote\"></div></a></center></td><td class=\"title\"><span class=\"titleline\"><a href=\"https://equals.app/dashboards/\">Show HN: Build auto-updating dashboards in a spreadsheet</a><span class=\"sitebit comhead\"> (<a href=\"from?site=equals.app\"><span class=\"sitestr\">equals.app</span></a>)</span></span></td></tr><tr><td colspan=\"2\"></td><td class=\"subtext\"><span class=\"subline\">\n",
            "<span class=\"score\" id=\"score_34805132\">143 points</span> by <a class=\"hnuser\" href=\"user?id=benmcredmond\">benmcredmond</a> <span class=\"age\" title=\"2023-02-15T15:33:14\"><a href=\"item?id=34805132\">1 day ago</a></span> <span id=\"unv_34805132\"></span> | <a href=\"item?id=34805132\">41 comments</a> </span>\n",
            "</td></tr>\n",
            "<tr class=\"spacer\" style=\"height:5px\"></tr>\n",
            "<tr class=\"athing\" id=\"34821887\">\n",
            "<td align=\"right\" class=\"title\" valign=\"top\"><span class=\"rank\">11.</span></td> <td class=\"votelinks\" valign=\"top\"><center><a href=\"vote?id=34821887&amp;how=up&amp;goto=show\" id=\"up_34821887\"><div class=\"votearrow\" title=\"upvote\"></div></a></center></td><td class=\"title\"><span class=\"titleline\"><a href=\"https://census.dev/blog/high-school\" rel=\"nofollow\">Show HN: High School – A Redis Mutex in Ruby and Lua</a><span class=\"sitebit comhead\"> (<a href=\"from?site=census.dev\"><span class=\"sitestr\">census.dev</span></a>)</span></span></td></tr><tr><td colspan=\"2\"></td><td class=\"subtext\"><span class=\"subline\">\n",
            "<span class=\"score\" id=\"score_34821887\">3 points</span> by <a class=\"hnuser\" href=\"user?id=nate\">nate</a> <span class=\"age\" title=\"2023-02-16T17:26:41\"><a href=\"item?id=34821887\">13 hours ago</a></span> <span id=\"unv_34821887\"></span> | <a href=\"item?id=34821887\">discuss</a> </span>\n",
            "</td></tr>\n",
            "<tr class=\"spacer\" style=\"height:5px\"></tr>\n",
            "<tr class=\"athing\" id=\"34813489\">\n",
            "<td align=\"right\" class=\"title\" valign=\"top\"><span class=\"rank\">12.</span></td> <td class=\"votelinks\" valign=\"top\"><center><a href=\"vote?id=34813489&amp;how=up&amp;goto=show\" id=\"up_34813489\"><div class=\"votearrow\" title=\"upvote\"></div></a></center></td><td class=\"title\"><span class=\"titleline\"><a href=\"https://github.com/slawlor/ractor\">Show HN: Ractor – a Rust-based actor framework with clusters and supervisors</a><span class=\"sitebit comhead\"> (<a href=\"from?site=github.com/slawlor\"><span class=\"sitestr\">github.com/slawlor</span></a>)</span></span></td></tr><tr><td colspan=\"2\"></td><td class=\"subtext\"><span class=\"subline\">\n",
            "<span class=\"score\" id=\"score_34813489\">161 points</span> by <a class=\"hnuser\" href=\"user?id=snowboarder63\">snowboarder63</a> <span class=\"age\" title=\"2023-02-16T01:02:46\"><a href=\"item?id=34813489\">1 day ago</a></span> <span id=\"unv_34813489\"></span> | <a href=\"item?id=34813489\">74 comments</a> </span>\n",
            "</td></tr>\n",
            "<tr class=\"spacer\" style=\"height:5px\"></tr>\n",
            "<tr class=\"athing\" id=\"34806482\">\n",
            "<td align=\"right\" class=\"title\" valign=\"top\"><span class=\"rank\">13.</span></td> <td class=\"votelinks\" valign=\"top\"><center><a href=\"vote?id=34806482&amp;how=up&amp;goto=show\" id=\"up_34806482\"><div class=\"votearrow\" title=\"upvote\"></div></a></center></td><td class=\"title\"><span class=\"titleline\"><a href=\"https://github.com/keephq/keep\">Show HN: Keep – Open-source alerting CLI</a><span class=\"sitebit comhead\"> (<a href=\"from?site=github.com/keephq\"><span class=\"sitestr\">github.com/keephq</span></a>)</span></span></td></tr><tr><td colspan=\"2\"></td><td class=\"subtext\"><span class=\"subline\">\n",
            "<span class=\"score\" id=\"score_34806482\">60 points</span> by <a class=\"hnuser\" href=\"user?id=talboren\">talboren</a> <span class=\"age\" title=\"2023-02-15T16:43:55\"><a href=\"item?id=34806482\">1 day ago</a></span> <span id=\"unv_34806482\"></span> | <a href=\"item?id=34806482\">14 comments</a> </span>\n",
            "</td></tr>\n",
            "<tr class=\"spacer\" style=\"height:5px\"></tr>\n",
            "<tr class=\"athing\" id=\"34818481\">\n",
            "<td align=\"right\" class=\"title\" valign=\"top\"><span class=\"rank\">14.</span></td> <td class=\"votelinks\" valign=\"top\"><center><a href=\"vote?id=34818481&amp;how=up&amp;goto=show\" id=\"up_34818481\"><div class=\"votearrow\" title=\"upvote\"></div></a></center></td><td class=\"title\"><span class=\"titleline\"><a href=\"https://jinbupal.com/\">Show HN: JinbuPal – Learning Chinese doesn't have to be difficult</a><span class=\"sitebit comhead\"> (<a href=\"from?site=jinbupal.com\"><span class=\"sitestr\">jinbupal.com</span></a>)</span></span></td></tr><tr><td colspan=\"2\"></td><td class=\"subtext\"><span class=\"subline\">\n",
            "<span class=\"score\" id=\"score_34818481\">17 points</span> by <a class=\"hnuser\" href=\"user?id=mkenny\">mkenny</a> <span class=\"age\" title=\"2023-02-16T13:45:51\"><a href=\"item?id=34818481\">17 hours ago</a></span> <span id=\"unv_34818481\"></span> | <a href=\"item?id=34818481\">10 comments</a> </span>\n",
            "</td></tr>\n",
            "<tr class=\"spacer\" style=\"height:5px\"></tr>\n",
            "<tr class=\"athing\" id=\"34804721\">\n",
            "<td align=\"right\" class=\"title\" valign=\"top\"><span class=\"rank\">15.</span></td> <td class=\"votelinks\" valign=\"top\"><center><a href=\"vote?id=34804721&amp;how=up&amp;goto=show\" id=\"up_34804721\"><div class=\"votearrow\" title=\"upvote\"></div></a></center></td><td class=\"title\"><span class=\"titleline\"><a href=\"https://github.com/matt-kimball/allocscope\">Show HN: I wrote a tool in Rust for tracking all allocations in a Linux process</a><span class=\"sitebit comhead\"> (<a href=\"from?site=github.com/matt-kimball\"><span class=\"sitestr\">github.com/matt-kimball</span></a>)</span></span></td></tr><tr><td colspan=\"2\"></td><td class=\"subtext\"><span class=\"subline\">\n",
            "<span class=\"score\" id=\"score_34804721\">111 points</span> by <a class=\"hnuser\" href=\"user?id=mkimball\">mkimball</a> <span class=\"age\" title=\"2023-02-15T15:02:24\"><a href=\"item?id=34804721\">1 day ago</a></span> <span id=\"unv_34804721\"></span> | <a href=\"item?id=34804721\">30 comments</a> </span>\n",
            "</td></tr>\n",
            "<tr class=\"spacer\" style=\"height:5px\"></tr>\n",
            "<tr class=\"athing\" id=\"34818506\">\n",
            "<td align=\"right\" class=\"title\" valign=\"top\"><span class=\"rank\">16.</span></td> <td class=\"votelinks\" valign=\"top\"><center><a href=\"vote?id=34818506&amp;how=up&amp;goto=show\" id=\"up_34818506\"><div class=\"votearrow\" title=\"upvote\"></div></a></center></td><td class=\"title\"><span class=\"titleline\"><a href=\"https://github.com/nikolassv/bartib\">Show HN: Bartib – a simple time tracker for the command line</a><span class=\"sitebit comhead\"> (<a href=\"from?site=github.com/nikolassv\"><span class=\"sitestr\">github.com/nikolassv</span></a>)</span></span></td></tr><tr><td colspan=\"2\"></td><td class=\"subtext\"><span class=\"subline\">\n",
            "<span class=\"score\" id=\"score_34818506\">3 points</span> by <a class=\"hnuser\" href=\"user?id=kalonis\">kalonis</a> <span class=\"age\" title=\"2023-02-16T13:47:33\"><a href=\"item?id=34818506\">17 hours ago</a></span> <span id=\"unv_34818506\"></span> | <a href=\"item?id=34818506\">1 comment</a> </span>\n",
            "</td></tr>\n",
            "<tr class=\"spacer\" style=\"height:5px\"></tr>\n",
            "<tr class=\"athing\" id=\"34817920\">\n",
            "<td align=\"right\" class=\"title\" valign=\"top\"><span class=\"rank\">17.</span></td> <td class=\"votelinks\" valign=\"top\"><center><a href=\"vote?id=34817920&amp;how=up&amp;goto=show\" id=\"up_34817920\"><div class=\"votearrow\" title=\"upvote\"></div></a></center></td><td class=\"title\"><span class=\"titleline\"><a href=\"http://www.vircon32.com\" rel=\"nofollow\">Show HN: Vircon32 – A virtual, simplified 32-bit game console</a><span class=\"sitebit comhead\"> (<a href=\"from?site=vircon32.com\"><span class=\"sitestr\">vircon32.com</span></a>)</span></span></td></tr><tr><td colspan=\"2\"></td><td class=\"subtext\"><span class=\"subline\">\n",
            "<span class=\"score\" id=\"score_34817920\">6 points</span> by <a class=\"hnuser\" href=\"user?id=carra\">carra</a> <span class=\"age\" title=\"2023-02-16T12:40:25\"><a href=\"item?id=34817920\">18 hours ago</a></span> <span id=\"unv_34817920\"></span> | <a href=\"item?id=34817920\">1 comment</a> </span>\n",
            "</td></tr>\n",
            "<tr class=\"spacer\" style=\"height:5px\"></tr>\n",
            "<tr class=\"athing\" id=\"34814579\">\n",
            "<td align=\"right\" class=\"title\" valign=\"top\"><span class=\"rank\">18.</span></td> <td class=\"votelinks\" valign=\"top\"><center><a href=\"vote?id=34814579&amp;how=up&amp;goto=show\" id=\"up_34814579\"><div class=\"votearrow\" title=\"upvote\"></div></a></center></td><td class=\"title\"><span class=\"titleline\"><a href=\"https://github.com/thoughtindustries/helium\">Show HN: Helium – a headless, open-source LMS</a><span class=\"sitebit comhead\"> (<a href=\"from?site=github.com/thoughtindustries\"><span class=\"sitestr\">github.com/thoughtindustries</span></a>)</span></span></td></tr><tr><td colspan=\"2\"></td><td class=\"subtext\"><span class=\"subline\">\n",
            "<span class=\"score\" id=\"score_34814579\">30 points</span> by <a class=\"hnuser\" href=\"user?id=ricotico060\">ricotico060</a> <span class=\"age\" title=\"2023-02-16T03:21:29\"><a href=\"item?id=34814579\">1 day ago</a></span> <span id=\"unv_34814579\"></span> | <a href=\"item?id=34814579\">11 comments</a> </span>\n",
            "</td></tr>\n",
            "<tr class=\"spacer\" style=\"height:5px\"></tr>\n",
            "<tr class=\"athing\" id=\"34790781\">\n",
            "<td align=\"right\" class=\"title\" valign=\"top\"><span class=\"rank\">19.</span></td> <td class=\"votelinks\" valign=\"top\"><center><a href=\"vote?id=34790781&amp;how=up&amp;goto=show\" id=\"up_34790781\"><div class=\"votearrow\" title=\"upvote\"></div></a></center></td><td class=\"title\"><span class=\"titleline\"><a href=\"https://screenshot.rocks\">Show HN: Screenshot.Rocks: Open-source browser and mobile screenshot mockup tool</a><span class=\"sitebit comhead\"> (<a href=\"from?site=screenshot.rocks\"><span class=\"sitestr\">screenshot.rocks</span></a>)</span></span></td></tr><tr><td colspan=\"2\"></td><td class=\"subtext\"><span class=\"subline\">\n",
            "<span class=\"score\" id=\"score_34790781\">90 points</span> by <a class=\"hnuser\" href=\"user?id=dignite\">dignite</a> <span class=\"age\" title=\"2023-02-14T15:35:04\"><a href=\"item?id=34790781\">2 days ago</a></span> <span id=\"unv_34790781\"></span> | <a href=\"item?id=34790781\">28 comments</a> </span>\n",
            "</td></tr>\n",
            "<tr class=\"spacer\" style=\"height:5px\"></tr>\n",
            "<tr class=\"athing\" id=\"34789698\">\n",
            "<td align=\"right\" class=\"title\" valign=\"top\"><span class=\"rank\">20.</span></td> <td class=\"votelinks\" valign=\"top\"><center><a href=\"vote?id=34789698&amp;how=up&amp;goto=show\" id=\"up_34789698\"><div class=\"votearrow\" title=\"upvote\"></div></a></center></td><td class=\"title\"><span class=\"titleline\"><a href=\"https://docs.kanaries.net/rath/tutorials/data-painter/\">Show HN: Data Painter – A Different Way to Interact with Your Data</a><span class=\"sitebit comhead\"> (<a href=\"from?site=kanaries.net\"><span class=\"sitestr\">kanaries.net</span></a>)</span></span></td></tr><tr><td colspan=\"2\"></td><td class=\"subtext\"><span class=\"subline\">\n",
            "<span class=\"score\" id=\"score_34789698\">179 points</span> by <a class=\"hnuser\" href=\"user?id=loa_observer\">loa_observer</a> <span class=\"age\" title=\"2023-02-14T14:24:55\"><a href=\"item?id=34789698\">2 days ago</a></span> <span id=\"unv_34789698\"></span> | <a href=\"item?id=34789698\">26 comments</a> </span>\n",
            "</td></tr>\n",
            "<tr class=\"spacer\" style=\"height:5px\"></tr>\n",
            "<tr class=\"athing\" id=\"34801762\">\n",
            "<td align=\"right\" class=\"title\" valign=\"top\"><span class=\"rank\">21.</span></td> <td class=\"votelinks\" valign=\"top\"><center><a href=\"vote?id=34801762&amp;how=up&amp;goto=show\" id=\"up_34801762\"><div class=\"votearrow\" title=\"upvote\"></div></a></center></td><td class=\"title\"><span class=\"titleline\"><a href=\"https://careergpt.ai\">Show HN: Explore careers that you don't know even exist</a><span class=\"sitebit comhead\"> (<a href=\"from?site=careergpt.ai\"><span class=\"sitestr\">careergpt.ai</span></a>)</span></span></td></tr><tr><td colspan=\"2\"></td><td class=\"subtext\"><span class=\"subline\">\n",
            "<span class=\"score\" id=\"score_34801762\">85 points</span> by <a class=\"hnuser\" href=\"user?id=tungle\">tungle</a> <span class=\"age\" title=\"2023-02-15T09:39:33\"><a href=\"item?id=34801762\">1 day ago</a></span> <span id=\"unv_34801762\"></span> | <a href=\"item?id=34801762\">72 comments</a> </span>\n",
            "</td></tr>\n",
            "<tr class=\"spacer\" style=\"height:5px\"></tr>\n",
            "<tr class=\"athing\" id=\"34813476\">\n",
            "<td align=\"right\" class=\"title\" valign=\"top\"><span class=\"rank\">22.</span></td> <td class=\"votelinks\" valign=\"top\"><center><a href=\"vote?id=34813476&amp;how=up&amp;goto=show\" id=\"up_34813476\"><div class=\"votearrow\" title=\"upvote\"></div></a></center></td><td class=\"title\"><span class=\"titleline\"><a href=\"https://github.com/adriangb/pgpq\">Show HN: Stream Arrow into Postgres</a><span class=\"sitebit comhead\"> (<a href=\"from?site=github.com/adriangb\"><span class=\"sitestr\">github.com/adriangb</span></a>)</span></span></td></tr><tr><td colspan=\"2\"></td><td class=\"subtext\"><span class=\"subline\">\n",
            "<span class=\"score\" id=\"score_34813476\">3 points</span> by <a class=\"hnuser\" href=\"user?id=gazpacho\">gazpacho</a> <span class=\"age\" title=\"2023-02-16T01:01:37\"><a href=\"item?id=34813476\">1 day ago</a></span> <span id=\"unv_34813476\"></span> | <a href=\"item?id=34813476\">discuss</a> </span>\n",
            "</td></tr>\n",
            "<tr class=\"spacer\" style=\"height:5px\"></tr>\n",
            "<tr class=\"athing\" id=\"34777109\">\n",
            "<td align=\"right\" class=\"title\" valign=\"top\"><span class=\"rank\">23.</span></td> <td class=\"votelinks\" valign=\"top\"><center><a href=\"vote?id=34777109&amp;how=up&amp;goto=show\" id=\"up_34777109\"><div class=\"votearrow\" title=\"upvote\"></div></a></center></td><td class=\"title\"><span class=\"titleline\"><a href=\"https://www.designhat.ai/\">Show HN: Generate User Interface Components with GPT-3</a><span class=\"sitebit comhead\"> (<a href=\"from?site=designhat.ai\"><span class=\"sitestr\">designhat.ai</span></a>)</span></span></td></tr><tr><td colspan=\"2\"></td><td class=\"subtext\"><span class=\"subline\">\n",
            "<span class=\"score\" id=\"score_34777109\">24 points</span> by <a class=\"hnuser\" href=\"user?id=designhat\">designhat</a> <span class=\"age\" title=\"2023-02-13T17:43:15\"><a href=\"item?id=34777109\">3 days ago</a></span> <span id=\"unv_34777109\"></span> | <a href=\"item?id=34777109\">13 comments</a> </span>\n",
            "</td></tr>\n",
            "<tr class=\"spacer\" style=\"height:5px\"></tr>\n",
            "<tr class=\"athing\" id=\"34780579\">\n",
            "<td align=\"right\" class=\"title\" valign=\"top\"><span class=\"rank\">24.</span></td> <td class=\"votelinks\" valign=\"top\"><center><a href=\"vote?id=34780579&amp;how=up&amp;goto=show\" id=\"up_34780579\"><div class=\"votearrow\" title=\"upvote\"></div></a></center></td><td class=\"title\"><span class=\"titleline\"><a href=\"https://paperlist.io/\">Show HN: I made Hacker News but for research papers</a><span class=\"sitebit comhead\"> (<a href=\"from?site=paperlist.io\"><span class=\"sitestr\">paperlist.io</span></a>)</span></span></td></tr><tr><td colspan=\"2\"></td><td class=\"subtext\"><span class=\"subline\">\n",
            "<span class=\"score\" id=\"score_34780579\">283 points</span> by <a class=\"hnuser\" href=\"user?id=kashnote\">kashnote</a> <span class=\"age\" title=\"2023-02-13T21:11:51\"><a href=\"item?id=34780579\">3 days ago</a></span> <span id=\"unv_34780579\"></span> | <a href=\"item?id=34780579\">87 comments</a> </span>\n",
            "</td></tr>\n",
            "<tr class=\"spacer\" style=\"height:5px\"></tr>\n",
            "<tr class=\"athing\" id=\"34805598\">\n",
            "<td align=\"right\" class=\"title\" valign=\"top\"><span class=\"rank\">25.</span></td> <td class=\"votelinks\" valign=\"top\"><center><a href=\"vote?id=34805598&amp;how=up&amp;goto=show\" id=\"up_34805598\"><div class=\"votearrow\" title=\"upvote\"></div></a></center></td><td class=\"title\"><span class=\"titleline\"><a href=\"https://palette.tone-row.com/\" rel=\"nofollow\">Show HN: Tailwind Custom Color Palettes and GPT3</a><span class=\"sitebit comhead\"> (<a href=\"from?site=tone-row.com\"><span class=\"sitestr\">tone-row.com</span></a>)</span></span></td></tr><tr><td colspan=\"2\"></td><td class=\"subtext\"><span class=\"subline\">\n",
            "<span class=\"score\" id=\"score_34805598\">9 points</span> by <a class=\"hnuser\" href=\"user?id=tonerow\">tonerow</a> <span class=\"age\" title=\"2023-02-15T16:00:24\"><a href=\"item?id=34805598\">1 day ago</a></span> <span id=\"unv_34805598\"></span> | <a href=\"item?id=34805598\">6 comments</a> </span>\n",
            "</td></tr>\n",
            "<tr class=\"spacer\" style=\"height:5px\"></tr>\n",
            "<tr class=\"athing\" id=\"34803702\">\n",
            "<td align=\"right\" class=\"title\" valign=\"top\"><span class=\"rank\">26.</span></td> <td class=\"votelinks\" valign=\"top\"><center><a href=\"vote?id=34803702&amp;how=up&amp;goto=show\" id=\"up_34803702\"><div class=\"votearrow\" title=\"upvote\"></div></a></center></td><td class=\"title\"><span class=\"titleline\"><a href=\"https://github.com/traverseda/PySdfScad\">Show HN: PySdfScad,an openSCAD interpretor using signed-distance-functions</a><span class=\"sitebit comhead\"> (<a href=\"from?site=github.com/traverseda\"><span class=\"sitestr\">github.com/traverseda</span></a>)</span></span></td></tr><tr><td colspan=\"2\"></td><td class=\"subtext\"><span class=\"subline\">\n",
            "<span class=\"score\" id=\"score_34803702\">3 points</span> by <a class=\"hnuser\" href=\"user?id=traverseda\">traverseda</a> <span class=\"age\" title=\"2023-02-15T13:46:57\"><a href=\"item?id=34803702\">1 day ago</a></span> <span id=\"unv_34803702\"></span> | <a href=\"item?id=34803702\">1 comment</a> </span>\n",
            "</td></tr>\n",
            "<tr class=\"spacer\" style=\"height:5px\"></tr>\n",
            "<tr class=\"athing\" id=\"34802870\">\n",
            "<td align=\"right\" class=\"title\" valign=\"top\"><span class=\"rank\">27.</span></td> <td class=\"votelinks\" valign=\"top\"><center><a href=\"vote?id=34802870&amp;how=up&amp;goto=show\" id=\"up_34802870\"><div class=\"votearrow\" title=\"upvote\"></div></a></center></td><td class=\"title\"><span class=\"titleline\"><a href=\"https://www.m93.org\" rel=\"nofollow\">Show HN: M93. The easiest way to build habits that stick</a><span class=\"sitebit comhead\"> (<a href=\"from?site=m93.org\"><span class=\"sitestr\">m93.org</span></a>)</span></span></td></tr><tr><td colspan=\"2\"></td><td class=\"subtext\"><span class=\"subline\">\n",
            "<span class=\"score\" id=\"score_34802870\">6 points</span> by <a class=\"hnuser\" href=\"user?id=udit99\">udit99</a> <span class=\"age\" title=\"2023-02-15T12:24:48\"><a href=\"item?id=34802870\">1 day ago</a></span> <span id=\"unv_34802870\"></span> | <a href=\"item?id=34802870\">2 comments</a> </span>\n",
            "</td></tr>\n",
            "<tr class=\"spacer\" style=\"height:5px\"></tr>\n",
            "<tr class=\"athing\" id=\"34793643\">\n",
            "<td align=\"right\" class=\"title\" valign=\"top\"><span class=\"rank\">28.</span></td> <td class=\"votelinks\" valign=\"top\"><center><a href=\"vote?id=34793643&amp;how=up&amp;goto=show\" id=\"up_34793643\"><div class=\"votearrow\" title=\"upvote\"></div></a></center></td><td class=\"title\"><span class=\"titleline\"><a href=\"https://github.com/Jamesbarford/easy-json\">Show HN: JSON Parser in C</a><span class=\"sitebit comhead\"> (<a href=\"from?site=github.com/jamesbarford\"><span class=\"sitestr\">github.com/jamesbarford</span></a>)</span></span></td></tr><tr><td colspan=\"2\"></td><td class=\"subtext\"><span class=\"subline\">\n",
            "<span class=\"score\" id=\"score_34793643\">6 points</span> by <a class=\"hnuser\" href=\"user?id=Jamesbarford\">Jamesbarford</a> <span class=\"age\" title=\"2023-02-14T18:23:31\"><a href=\"item?id=34793643\">2 days ago</a></span> <span id=\"unv_34793643\"></span> | <a href=\"item?id=34793643\">discuss</a> </span>\n",
            "</td></tr>\n",
            "<tr class=\"spacer\" style=\"height:5px\"></tr>\n",
            "<tr class=\"athing\" id=\"34801745\">\n",
            "<td align=\"right\" class=\"title\" valign=\"top\"><span class=\"rank\">29.</span></td> <td class=\"votelinks\" valign=\"top\"><center><a href=\"vote?id=34801745&amp;how=up&amp;goto=show\" id=\"up_34801745\"><div class=\"votearrow\" title=\"upvote\"></div></a></center></td><td class=\"title\"><span class=\"titleline\"><a href=\"https://RunMercury.com\" rel=\"nofollow\">Show HN: Turn Jupyter Notebook to Web App</a><span class=\"sitebit comhead\"> (<a href=\"from?site=runmercury.com\"><span class=\"sitestr\">runmercury.com</span></a>)</span></span></td></tr><tr><td colspan=\"2\"></td><td class=\"subtext\"><span class=\"subline\">\n",
            "<span class=\"score\" id=\"score_34801745\">7 points</span> by <a class=\"hnuser\" href=\"user?id=pplonski86\">pplonski86</a> <span class=\"age\" title=\"2023-02-15T09:36:27\"><a href=\"item?id=34801745\">1 day ago</a></span> <span id=\"unv_34801745\"></span> | <a href=\"item?id=34801745\">2 comments</a> </span>\n",
            "</td></tr>\n",
            "<tr class=\"spacer\" style=\"height:5px\"></tr>\n",
            "<tr class=\"athing\" id=\"34787965\">\n",
            "<td align=\"right\" class=\"title\" valign=\"top\"><span class=\"rank\">30.</span></td> <td class=\"votelinks\" valign=\"top\"><center><a href=\"vote?id=34787965&amp;how=up&amp;goto=show\" id=\"up_34787965\"><div class=\"votearrow\" title=\"upvote\"></div></a></center></td><td class=\"title\"><span class=\"titleline\"><a href=\"https://github.com/dd3v/favbox\">Show HN: I made an extension for browser bookmarks</a><span class=\"sitebit comhead\"> (<a href=\"from?site=github.com/dd3v\"><span class=\"sitestr\">github.com/dd3v</span></a>)</span></span></td></tr><tr><td colspan=\"2\"></td><td class=\"subtext\"><span class=\"subline\">\n",
            "<span class=\"score\" id=\"score_34787965\">5 points</span> by <a class=\"hnuser\" href=\"user?id=mdd3v\">mdd3v</a> <span class=\"age\" title=\"2023-02-14T11:31:42\"><a href=\"item?id=34787965\">2 days ago</a></span> <span id=\"unv_34787965\"></span> | <a href=\"item?id=34787965\">discuss</a> </span>\n",
            "</td></tr>\n",
            "<tr class=\"spacer\" style=\"height:5px\"></tr>\n",
            "<tr class=\"morespace\" style=\"height:10px\"></tr><tr><td colspan=\"2\"></td>\n",
            "<td class=\"title\"><a class=\"morelink\" href=\"show?p=2\" rel=\"next\">More</a></td> </tr>\n",
            "</table>\n",
            "</td></tr>\n",
            "<tr><td><img height=\"10\" src=\"s.gif\" width=\"0\"/><table cellpadding=\"1\" cellspacing=\"0\" width=\"100%\"><tr><td bgcolor=\"#ff6600\"></td></tr></table><br/>\n",
            "<center><span class=\"yclinks\"><a href=\"newsguidelines.html\">Guidelines</a> | <a href=\"newsfaq.html\">FAQ</a> | <a href=\"lists\">Lists</a> | <a href=\"https://github.com/HackerNews/API\">API</a> | <a href=\"security.html\">Security</a> | <a href=\"https://www.ycombinator.com/legal/\">Legal</a> | <a href=\"https://www.ycombinator.com/apply/\">Apply to YC</a> | <a href=\"mailto:hn@ycombinator.com\">Contact</a></span><br/><br/>\n",
            "<form action=\"//hn.algolia.com/\" method=\"get\">Search: <input autocapitalize=\"off\" autocomplete=\"false\" autocorrect=\"off\" name=\"q\" size=\"17\" spellcheck=\"false\" type=\"text\"/></form></center></td></tr> </table></center></body>\n",
            "<script src=\"hn.js?OCA9brqrT239YpGzaLlf\" type=\"text/javascript\"></script>\n",
            "</html>\n",
            "\n"
          ]
        }
      ]
    },
    {
      "cell_type": "code",
      "source": [
        "headings = soup.find_all(\"span\",class_=\"titleline\")"
      ],
      "metadata": {
        "id": "v1bqk9ofygEB"
      },
      "execution_count": null,
      "outputs": []
    },
    {
      "cell_type": "code",
      "source": [
        "with open(\"news-web.html\",'w') as file:\n",
        "  file.write(str(soup))"
      ],
      "metadata": {
        "id": "JDMIfl6VXAf-"
      },
      "execution_count": 151,
      "outputs": []
    },
    {
      "cell_type": "code",
      "source": [
        "link = []\n",
        "head = []\n",
        "for i in range(len(headings)):\n",
        "  head.append(headings[i].a.text)\n",
        "  link.append(headings[i].a.get('href'))\n",
        "print(len(head))\n",
        "print(len(link))"
      ],
      "metadata": {
        "colab": {
          "base_uri": "https://localhost:8080/"
        },
        "id": "MAJ5-U6qzmxy",
        "outputId": "e70d3cef-022b-4da5-beeb-1d3d2cd0de09"
      },
      "execution_count": null,
      "outputs": [
        {
          "output_type": "stream",
          "name": "stdout",
          "text": [
            "30\n",
            "30\n"
          ]
        }
      ]
    },
    {
      "cell_type": "code",
      "source": [
        "score = soup.find_all(\"span\", class_=\"score\")"
      ],
      "metadata": {
        "id": "gltwGoxg5YZ9"
      },
      "execution_count": null,
      "outputs": []
    },
    {
      "cell_type": "code",
      "source": [
        "scores = []\n",
        "for i in range(len(score)):\n",
        "  scores.append(int(score[i].text.replace(\" points\",\"\")))\n",
        "print(len(scores))"
      ],
      "metadata": {
        "id": "vOkdI0kc8OUn",
        "colab": {
          "base_uri": "https://localhost:8080/"
        },
        "outputId": "e6209ac6-d225-4d2f-ea1e-3d911f96ae14"
      },
      "execution_count": null,
      "outputs": [
        {
          "output_type": "stream",
          "name": "stdout",
          "text": [
            "30\n"
          ]
        }
      ]
    },
    {
      "cell_type": "code",
      "source": [
        "import pandas as pd\n",
        "\n",
        "dictionary = {\"News Headings\": head,\n",
        "              \"News Source Links\":link,\n",
        "              \"Upvote\":scores,\n",
        "              }\n",
        "news_table = pd.DataFrame(dictionary)\n",
        "print(news_table.sort_values(by='Upvote', ascending = False))"
      ],
      "metadata": {
        "colab": {
          "base_uri": "https://localhost:8080/"
        },
        "id": "TYbpSjvu9iNO",
        "outputId": "cccc33e1-f4ca-4484-c3cc-d687f3daf279"
      },
      "execution_count": null,
      "outputs": [
        {
          "output_type": "stream",
          "name": "stdout",
          "text": [
            "                                        News Headings  \\\n",
            "5   Show HN: I built a little online drum machine ...   \n",
            "23  Show HN: I made Hacker News but for research p...   \n",
            "0   Show HN: I made an early 2000s-inspired intern...   \n",
            "19  Show HN: Data Painter – A Different Way to Int...   \n",
            "11  Show HN: Ractor – a Rust-based actor framework...   \n",
            "9   Show HN: Build auto-updating dashboards in a s...   \n",
            "14  Show HN: I wrote a tool in Rust for tracking a...   \n",
            "18  Show HN: Screenshot.Rocks: Open-source browser...   \n",
            "20  Show HN: Explore careers that you don't know e...   \n",
            "4   Show HN: Duffel (YC S18) – A faster way to sel...   \n",
            "12           Show HN: Keep – Open-source alerting CLI   \n",
            "2   Show HN: I made a super simple iOS app to trac...   \n",
            "17      Show HN: Helium – a headless, open-source LMS   \n",
            "22  Show HN: Generate User Interface Components wi...   \n",
            "3   Show HN: Camome UI – A lightweight React and C...   \n",
            "13  Show HN: JinbuPal – Learning Chinese doesn't h...   \n",
            "7   Show HN: Oxen.ai – Fast Unstructured Data Vers...   \n",
            "1   Show HN: Inquery (YC W23) – Real-time events f...   \n",
            "24   Show HN: Tailwind Custom Color Palettes and GPT3   \n",
            "28          Show HN: Turn Jupyter Notebook to Web App   \n",
            "26  Show HN: M93. The easiest way to build habits ...   \n",
            "16  Show HN: Vircon32 – A virtual, simplified 32-b...   \n",
            "27                          Show HN: JSON Parser in C   \n",
            "29  Show HN: I made an extension for browser bookm...   \n",
            "21                Show HN: Stream Arrow into Postgres   \n",
            "25  Show HN: PySdfScad,an openSCAD interpretor usi...   \n",
            "10  Show HN: High School – A Redis Mutex in Ruby a...   \n",
            "8   Show HN: Favird – A listing with listings of i...   \n",
            "15  Show HN: Bartib – a simple time tracker for th...   \n",
            "6       Show HN: SheetKeys – The Hacker's Spreadsheet   \n",
            "\n",
            "                                    News Source Links  Upvote  \n",
            "5                                     https://peel.fm     343  \n",
            "23                              https://paperlist.io/     283  \n",
            "0                       https://basementcommunity.com     240  \n",
            "19  https://docs.kanaries.net/rath/tutorials/data-...     179  \n",
            "11                  https://github.com/slawlor/ractor     161  \n",
            "9                      https://equals.app/dashboards/     143  \n",
            "14         https://github.com/matt-kimball/allocscope     111  \n",
            "18                           https://screenshot.rocks      90  \n",
            "20                               https://careergpt.ai      85  \n",
            "4                            https://duffel.com/links      81  \n",
            "12                     https://github.com/keephq/keep      60  \n",
            "2   https://apps.apple.com/us/app/my-expenses-budg...      45  \n",
            "17        https://github.com/thoughtindustries/helium      30  \n",
            "22                          https://www.designhat.ai/      24  \n",
            "3                                  https://camome.net      20  \n",
            "13                              https://jinbupal.com/      17  \n",
            "7             https://github.com/Oxen-AI/oxen-release      13  \n",
            "1                https://github.com/inqueryio/inquery      12  \n",
            "24                      https://palette.tone-row.com/       9  \n",
            "28                             https://RunMercury.com       7  \n",
            "26                                https://www.m93.org       6  \n",
            "16                            http://www.vircon32.com       6  \n",
            "27          https://github.com/Jamesbarford/easy-json       6  \n",
            "29                     https://github.com/dd3v/favbox       5  \n",
            "21                   https://github.com/adriangb/pgpq       3  \n",
            "25            https://github.com/traverseda/PySdfScad       3  \n",
            "10                https://census.dev/blog/high-school       3  \n",
            "8                                  https://favird.com       3  \n",
            "15                https://github.com/nikolassv/bartib       3  \n",
            "6                  https://github.com/philc/sheetkeys       2  \n"
          ]
        }
      ]
    },
    {
      "cell_type": "code",
      "source": [
        "import requests\n",
        "from bs4 import BeautifulSoup\n",
        "import pandas as pd\n",
        "\n",
        "response = requests.get(\"https://news.ycombinator.com/show\")\n",
        "news = response.text\n",
        "soup = BeautifulSoup(news, 'html.parser')\n",
        "\n",
        "# # save html file\n",
        "# with open(\"news-web.html\",mode='w') as file:\n",
        "#     file.write(soup)\n",
        "\n",
        "headings = soup.find_all(\"span\",class_=\"titleline\")\n",
        "\n",
        "link = []\n",
        "head = []\n",
        "\n",
        "for i in range(len(headings)):\n",
        "  head.append(headings[i].a.text)\n",
        "  link.append(headings[i].a.get('href'))\n",
        "\n",
        "score = soup.find_all(\"span\", class_=\"score\")\n",
        "\n",
        "scores = []\n",
        "for i in range(len(score)):\n",
        "  scores.append(int(score[i].text.replace(\" points\",\"\")))\n",
        "\n",
        "dictionary = {\"News Headings\": head,\n",
        "              \"News Source Links\":link,\n",
        "              \"Upvote\":scores,\n",
        "              }\n",
        "\n",
        "news_table = pd.DataFrame(dictionary)\n",
        "\n",
        "# TOP 5 upvoted news\n",
        "print(news_table.sort_values(by='Upvote', ascending = False).head(5))\n"
      ],
      "metadata": {
        "id": "HAnbRrIUBR_8",
        "colab": {
          "base_uri": "https://localhost:8080/"
        },
        "outputId": "59bf43fe-269f-4bf8-a8af-1af7116efc54"
      },
      "execution_count": null,
      "outputs": [
        {
          "output_type": "stream",
          "name": "stdout",
          "text": [
            "                                        News Headings  \\\n",
            "5   Show HN: I built a little online drum machine ...   \n",
            "23  Show HN: I made Hacker News but for research p...   \n",
            "0   Show HN: I made an early 2000s-inspired intern...   \n",
            "19  Show HN: Data Painter – A Different Way to Int...   \n",
            "11  Show HN: Ractor – a Rust-based actor framework...   \n",
            "\n",
            "                                    News Source Links  Upvote  \n",
            "5                                     https://peel.fm     343  \n",
            "23                              https://paperlist.io/     283  \n",
            "0                       https://basementcommunity.com     240  \n",
            "19  https://docs.kanaries.net/rath/tutorials/data-...     179  \n",
            "11                  https://github.com/slawlor/ractor     161  \n"
          ]
        }
      ]
    },
    {
      "cell_type": "code",
      "source": [],
      "metadata": {
        "id": "8KtM_-e7MLrc"
      },
      "execution_count": null,
      "outputs": []
    }
  ]
}