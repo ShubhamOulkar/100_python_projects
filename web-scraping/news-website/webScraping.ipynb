{
 "cells": [
  {
   "cell_type": "code",
   "execution_count": 1,
   "id": "d60c79a6-5336-48d7-89e9-00f658000b21",
   "metadata": {},
   "outputs": [
    {
     "name": "stdout",
     "output_type": "stream",
     "text": [
      "                                        News Headings  \\\n",
      "6   Show HN: I built a little online drum machine ...   \n",
      "24  Show HN: I made Hacker News but for research p...   \n",
      "0   Show HN: I made an early 2000s-inspired intern...   \n",
      "20  Show HN: Data Painter – A Different Way to Int...   \n",
      "12  Show HN: Ractor – a Rust-based actor framework...   \n",
      "\n",
      "                                    News Source Links  Upvote  \n",
      "6                                     https://peel.fm     343  \n",
      "24                              https://paperlist.io/     283  \n",
      "0                       https://basementcommunity.com     247  \n",
      "20  https://docs.kanaries.net/rath/tutorials/data-...     179  \n",
      "12                  https://github.com/slawlor/ractor     161  \n"
     ]
    }
   ],
   "source": [
    "import requests\n",
    "from bs4 import BeautifulSoup\n",
    "import pandas as pd\n",
    "\n",
    "response = requests.get(\"https://news.ycombinator.com/show\")\n",
    "news = response.text\n",
    "soup = BeautifulSoup(news, 'html.parser')\n",
    "\n",
    "# # save html file\n",
    "# with open(\"news-web.html\",mode='w') as file:\n",
    "#     file.write(soup)\n",
    "\n",
    "headings = soup.find_all(\"span\",class_=\"titleline\")\n",
    "\n",
    "link = []\n",
    "head = []\n",
    "\n",
    "for i in range(len(headings)):\n",
    "  head.append(headings[i].a.text)\n",
    "  link.append(headings[i].a.get('href'))\n",
    "\n",
    "score = soup.find_all(\"span\", class_=\"score\")\n",
    "\n",
    "scores = []\n",
    "for i in range(len(score)):\n",
    "  scores.append(int(score[i].text.replace(\" points\",\"\")))\n",
    "\n",
    "dictionary = {\"News Headings\": head,\n",
    "              \"News Source Links\":link,\n",
    "              \"Upvote\":scores,\n",
    "              }\n",
    "\n",
    "news_table = pd.DataFrame(dictionary)\n",
    "\n",
    "# TOP 5 upvoted news\n",
    "print(news_table.sort_values(by='Upvote', ascending = False).head(5))\n"
   ]
  },
  {
   "cell_type": "code",
   "execution_count": null,
   "id": "4a430ecc-f374-4598-8afb-18f230f00b8d",
   "metadata": {},
   "outputs": [],
   "source": []
  }
 ],
 "metadata": {
  "kernelspec": {
   "display_name": "Python 3 (ipykernel)",
   "language": "python",
   "name": "python3"
  },
  "language_info": {
   "codemirror_mode": {
    "name": "ipython",
    "version": 3
   },
   "file_extension": ".py",
   "mimetype": "text/x-python",
   "name": "python",
   "nbconvert_exporter": "python",
   "pygments_lexer": "ipython3",
   "version": "3.9.7"
  }
 },
 "nbformat": 4,
 "nbformat_minor": 5
}
